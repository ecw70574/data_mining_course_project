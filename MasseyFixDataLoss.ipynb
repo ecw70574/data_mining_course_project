{
 "cells": [
  {
   "cell_type": "code",
   "execution_count": 2,
   "metadata": {},
   "outputs": [
    {
     "name": "stdout",
     "output_type": "stream",
     "text": [
      "Defaulting to user installation because normal site-packages is not writeable\n",
      "Requirement already satisfied: polars in /Users/ellawileman/Library/Python/3.9/lib/python/site-packages (1.27.1)\n",
      "\u001b[33mWARNING: You are using pip version 21.2.4; however, version 25.0.1 is available.\n",
      "You should consider upgrading via the '/Library/Developer/CommandLineTools/usr/bin/python3 -m pip install --upgrade pip' command.\u001b[0m\n"
     ]
    }
   ],
   "source": [
    "!pip3 install polars"
   ]
  },
  {
   "cell_type": "code",
   "execution_count": 3,
   "metadata": {},
   "outputs": [
    {
     "name": "stdout",
     "output_type": "stream",
     "text": [
      "['/Library/Developer/CommandLineTools/Library/Frameworks/Python3.framework/Versions/3.9/lib/python39.zip', '/Library/Developer/CommandLineTools/Library/Frameworks/Python3.framework/Versions/3.9/lib/python3.9', '/Library/Developer/CommandLineTools/Library/Frameworks/Python3.framework/Versions/3.9/lib/python3.9/lib-dynload', '', '/Users/ellawileman/Library/Python/3.9/lib/python/site-packages', '/Library/Developer/CommandLineTools/Library/Frameworks/Python3.framework/Versions/3.9/lib/python3.9/site-packages']\n"
     ]
    }
   ],
   "source": [
    "import sys\n",
    "print(sys.path)"
   ]
  },
  {
   "cell_type": "code",
   "execution_count": 4,
   "metadata": {},
   "outputs": [
    {
     "name": "stdout",
     "output_type": "stream",
     "text": [
      "/usr/bin/python3\n"
     ]
    }
   ],
   "source": [
    "!which python3"
   ]
  },
  {
   "cell_type": "code",
   "execution_count": 5,
   "metadata": {},
   "outputs": [],
   "source": [
    "import os \n",
    "os.chdir('/Users/ellawileman/Documents/spring2025/data mining/data_mining_course_project')"
   ]
  },
  {
   "cell_type": "code",
   "execution_count": 6,
   "metadata": {},
   "outputs": [
    {
     "data": {
      "text/html": [
       "<div><style>\n",
       ".dataframe > thead > tr,\n",
       ".dataframe > tbody > tr {\n",
       "  text-align: right;\n",
       "  white-space: pre-wrap;\n",
       "}\n",
       "</style>\n",
       "<small>shape: (23, 2)</small><table border=\"1\" class=\"dataframe\"><thead><tr><th>Season</th><th>count</th></tr><tr><td>i64</td><td>u32</td></tr></thead><tbody><tr><td>2017</td><td>315310</td></tr><tr><td>2007</td><td>139384</td></tr><tr><td>2012</td><td>248467</td></tr><tr><td>2009</td><td>183704</td></tr><tr><td>2025</td><td>281534</td></tr><tr><td>&hellip;</td><td>&hellip;</td></tr><tr><td>2003</td><td>131535</td></tr><tr><td>2018</td><td>292119</td></tr><tr><td>2014</td><td>292111</td></tr><tr><td>2024</td><td>319414</td></tr><tr><td>2006</td><td>132896</td></tr></tbody></table></div>"
      ],
      "text/plain": [
       "shape: (23, 2)\n",
       "┌────────┬────────┐\n",
       "│ Season ┆ count  │\n",
       "│ ---    ┆ ---    │\n",
       "│ i64    ┆ u32    │\n",
       "╞════════╪════════╡\n",
       "│ 2017   ┆ 315310 │\n",
       "│ 2007   ┆ 139384 │\n",
       "│ 2012   ┆ 248467 │\n",
       "│ 2009   ┆ 183704 │\n",
       "│ 2025   ┆ 281534 │\n",
       "│ …      ┆ …      │\n",
       "│ 2003   ┆ 131535 │\n",
       "│ 2018   ┆ 292119 │\n",
       "│ 2014   ┆ 292111 │\n",
       "│ 2024   ┆ 319414 │\n",
       "│ 2006   ┆ 132896 │\n",
       "└────────┴────────┘"
      ]
     },
     "execution_count": 6,
     "metadata": {},
     "output_type": "execute_result"
    }
   ],
   "source": [
    "import polars as pl\n",
    "df = pl.read_csv(\"MMasseyOrdinals.csv\")\n",
    "df[\"Season\"].value_counts()"
   ]
  },
  {
   "cell_type": "code",
   "execution_count": 7,
   "metadata": {},
   "outputs": [
    {
     "data": {
      "text/plain": [
       "['Season', 'RankingDayNum', 'SystemName', 'TeamID', 'OrdinalRank']"
      ]
     },
     "execution_count": 7,
     "metadata": {},
     "output_type": "execute_result"
    }
   ],
   "source": [
    "df.columns"
   ]
  },
  {
   "cell_type": "code",
   "execution_count": 8,
   "metadata": {},
   "outputs": [
    {
     "name": "stdout",
     "output_type": "stream",
     "text": [
      "(5546091, 5)\n"
     ]
    }
   ],
   "source": [
    "print(df.shape)  # Shape of the DataFrame\n",
    "# 5 million rows\n"
   ]
  },
  {
   "cell_type": "code",
   "execution_count": 9,
   "metadata": {},
   "outputs": [
    {
     "data": {
      "text/html": [
       "<div><style>\n",
       ".dataframe > thead > tr,\n",
       ".dataframe > tbody > tr {\n",
       "  text-align: right;\n",
       "  white-space: pre-wrap;\n",
       "}\n",
       "</style>\n",
       "<small>shape: (375_452, 5)</small><table border=\"1\" class=\"dataframe\"><thead><tr><th>Season</th><th>RankingDayNum</th><th>SystemName</th><th>TeamID</th><th>OrdinalRank</th></tr><tr><td>i64</td><td>i64</td><td>str</td><td>i64</td><td>i64</td></tr></thead><tbody><tr><td>2003</td><td>133</td><td>&quot;AP&quot;</td><td>1112</td><td>2</td></tr><tr><td>2003</td><td>133</td><td>&quot;AP&quot;</td><td>1163</td><td>23</td></tr><tr><td>2003</td><td>133</td><td>&quot;AP&quot;</td><td>1166</td><td>15</td></tr><tr><td>2003</td><td>133</td><td>&quot;AP&quot;</td><td>1173</td><td>16</td></tr><tr><td>2003</td><td>133</td><td>&quot;AP&quot;</td><td>1181</td><td>7</td></tr><tr><td>&hellip;</td><td>&hellip;</td><td>&hellip;</td><td>&hellip;</td><td>&hellip;</td></tr><tr><td>2024</td><td>133</td><td>&quot;WLK&quot;</td><td>1474</td><td>264</td></tr><tr><td>2024</td><td>133</td><td>&quot;WLK&quot;</td><td>1475</td><td>332</td></tr><tr><td>2024</td><td>133</td><td>&quot;WLK&quot;</td><td>1476</td><td>357</td></tr><tr><td>2024</td><td>133</td><td>&quot;WLK&quot;</td><td>1477</td><td>320</td></tr><tr><td>2024</td><td>133</td><td>&quot;WLK&quot;</td><td>1478</td><td>300</td></tr></tbody></table></div>"
      ],
      "text/plain": [
       "shape: (375_452, 5)\n",
       "┌────────┬───────────────┬────────────┬────────┬─────────────┐\n",
       "│ Season ┆ RankingDayNum ┆ SystemName ┆ TeamID ┆ OrdinalRank │\n",
       "│ ---    ┆ ---           ┆ ---        ┆ ---    ┆ ---         │\n",
       "│ i64    ┆ i64           ┆ str        ┆ i64    ┆ i64         │\n",
       "╞════════╪═══════════════╪════════════╪════════╪═════════════╡\n",
       "│ 2003   ┆ 133           ┆ AP         ┆ 1112   ┆ 2           │\n",
       "│ 2003   ┆ 133           ┆ AP         ┆ 1163   ┆ 23          │\n",
       "│ 2003   ┆ 133           ┆ AP         ┆ 1166   ┆ 15          │\n",
       "│ 2003   ┆ 133           ┆ AP         ┆ 1173   ┆ 16          │\n",
       "│ 2003   ┆ 133           ┆ AP         ┆ 1181   ┆ 7           │\n",
       "│ …      ┆ …             ┆ …          ┆ …      ┆ …           │\n",
       "│ 2024   ┆ 133           ┆ WLK        ┆ 1474   ┆ 264         │\n",
       "│ 2024   ┆ 133           ┆ WLK        ┆ 1475   ┆ 332         │\n",
       "│ 2024   ┆ 133           ┆ WLK        ┆ 1476   ┆ 357         │\n",
       "│ 2024   ┆ 133           ┆ WLK        ┆ 1477   ┆ 320         │\n",
       "│ 2024   ┆ 133           ┆ WLK        ┆ 1478   ┆ 300         │\n",
       "└────────┴───────────────┴────────────┴────────┴─────────────┘"
      ]
     },
     "metadata": {},
     "output_type": "display_data"
    }
   ],
   "source": [
    "# Filter rows where RankingDayNum == 133\n",
    "filtered_df = df.filter(df[\"RankingDayNum\"] == 133)\n",
    "display(filtered_df)"
   ]
  },
  {
   "cell_type": "code",
   "execution_count": 10,
   "metadata": {},
   "outputs": [],
   "source": [
    "\n",
    "# Write the filtered DataFrame to a CSV file\n",
    "filtered_df.write_csv(\"Massey_AllYears.csv\")"
   ]
  }
 ],
 "metadata": {
  "kernelspec": {
   "display_name": "Python 3",
   "language": "python",
   "name": "python3"
  },
  "language_info": {
   "codemirror_mode": {
    "name": "ipython",
    "version": 3
   },
   "file_extension": ".py",
   "mimetype": "text/x-python",
   "name": "python",
   "nbconvert_exporter": "python",
   "pygments_lexer": "ipython3",
   "version": "3.9.6"
  }
 },
 "nbformat": 4,
 "nbformat_minor": 2
}
